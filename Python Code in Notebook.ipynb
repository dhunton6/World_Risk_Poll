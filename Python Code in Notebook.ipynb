{
 "cells": [
  {
   "cell_type": "markdown",
   "metadata": {},
   "source": [
    "## Hunton - Original Analysis Case Study - Part 5\n",
    "### World Risk Poll\n",
    "\n",
    "The findings of the World Risk Poll are based on over 150,000 interviews by Gallup in 142 countries. More information can be found on their website here: https://wrp.lrfoundation.org.uk/\n",
    "\n",
    "Load packages and prepare data (from Part 1)"
   ]
  },
  {
   "cell_type": "code",
   "execution_count": 1,
   "metadata": {},
   "outputs": [
    {
     "data": {
      "text/plain": [
       "(154195, 90)"
      ]
     },
     "execution_count": 1,
     "metadata": {},
     "output_type": "execute_result"
    }
   ],
   "source": [
    "# Load libraries\n",
    "import pandas as pd\n",
    "from sklearn import linear_model\n",
    "from sklearn.model_selection import train_test_split\n",
    "from sklearn.metrics import confusion_matrix\n",
    "from sklearn.neural_network import MLPClassifier\n",
    "from sklearn.neighbors import KNeighborsClassifier\n",
    "from sklearn.ensemble import RandomForestClassifier\n",
    "\n",
    "# Read in data\n",
    "df = pd.read_csv('RiskData.csv', na_values='#NULL!')\n",
    "\n",
    "df.shape"
   ]
  },
  {
   "cell_type": "markdown",
   "metadata": {},
   "source": [
    "Since previous EDA has shown that none of the respondents' answers to the questions have any bearing on whether people feel more or less safe, let's look at just the demographic information."
   ]
  },
  {
   "cell_type": "code",
   "execution_count": 2,
   "metadata": {},
   "outputs": [
    {
     "data": {
      "text/plain": [
       "(144952, 10)"
      ]
     },
     "execution_count": 2,
     "metadata": {},
     "output_type": "execute_result"
    }
   ],
   "source": [
    "df = df[['GlobalRegion','CountryIncomeLevel','Age','Gender','Education','IncomeFeelings','INCOME_5','Urbanicity',\n",
    "        'HouseholdSize','L2']]\n",
    "    \n",
    "# Get rid of rows with missing or invalid values\n",
    "df.drop(index=df[df.isin([float(98), float(99)]).any(1)].index, inplace=True)\n",
    "df = df[df['Age'] <= 97]\n",
    "df = df[df['Education'] <= 3]\n",
    "df = df[df['IncomeFeelings'] <= 4] \n",
    "df = df[df['Urbanicity'] <= 2] \n",
    "df = df.dropna()\n",
    "\n",
    "df.shape"
   ]
  },
  {
   "cell_type": "markdown",
   "metadata": {},
   "source": [
    "Scale demographic variables."
   ]
  },
  {
   "cell_type": "code",
   "execution_count": 3,
   "metadata": {},
   "outputs": [
    {
     "data": {
      "text/html": [
       "<div>\n",
       "<style scoped>\n",
       "    .dataframe tbody tr th:only-of-type {\n",
       "        vertical-align: middle;\n",
       "    }\n",
       "\n",
       "    .dataframe tbody tr th {\n",
       "        vertical-align: top;\n",
       "    }\n",
       "\n",
       "    .dataframe thead th {\n",
       "        text-align: right;\n",
       "    }\n",
       "</style>\n",
       "<table border=\"1\" class=\"dataframe\">\n",
       "  <thead>\n",
       "    <tr style=\"text-align: right;\">\n",
       "      <th></th>\n",
       "      <th>GlobalRegion</th>\n",
       "      <th>CountryIncomeLevel</th>\n",
       "      <th>Age</th>\n",
       "      <th>Gender</th>\n",
       "      <th>Education</th>\n",
       "      <th>IncomeFeelings</th>\n",
       "      <th>INCOME_5</th>\n",
       "      <th>Urbanicity</th>\n",
       "      <th>HouseholdSize</th>\n",
       "      <th>L2</th>\n",
       "    </tr>\n",
       "  </thead>\n",
       "  <tbody>\n",
       "    <tr>\n",
       "      <th>0</th>\n",
       "      <td>11.0</td>\n",
       "      <td>0.33</td>\n",
       "      <td>58.0</td>\n",
       "      <td>2.0</td>\n",
       "      <td>2.0</td>\n",
       "      <td>0.33</td>\n",
       "      <td>0.75</td>\n",
       "      <td>1.0</td>\n",
       "      <td>3.0</td>\n",
       "      <td>-1.0</td>\n",
       "    </tr>\n",
       "    <tr>\n",
       "      <th>2</th>\n",
       "      <td>7.0</td>\n",
       "      <td>0.00</td>\n",
       "      <td>36.0</td>\n",
       "      <td>1.0</td>\n",
       "      <td>3.0</td>\n",
       "      <td>0.00</td>\n",
       "      <td>1.00</td>\n",
       "      <td>1.0</td>\n",
       "      <td>3.0</td>\n",
       "      <td>0.0</td>\n",
       "    </tr>\n",
       "    <tr>\n",
       "      <th>3</th>\n",
       "      <td>13.0</td>\n",
       "      <td>1.00</td>\n",
       "      <td>45.0</td>\n",
       "      <td>2.0</td>\n",
       "      <td>3.0</td>\n",
       "      <td>1.00</td>\n",
       "      <td>0.50</td>\n",
       "      <td>0.0</td>\n",
       "      <td>2.0</td>\n",
       "      <td>0.0</td>\n",
       "    </tr>\n",
       "    <tr>\n",
       "      <th>4</th>\n",
       "      <td>8.0</td>\n",
       "      <td>1.00</td>\n",
       "      <td>29.0</td>\n",
       "      <td>2.0</td>\n",
       "      <td>3.0</td>\n",
       "      <td>0.66</td>\n",
       "      <td>1.00</td>\n",
       "      <td>1.0</td>\n",
       "      <td>1.0</td>\n",
       "      <td>-1.0</td>\n",
       "    </tr>\n",
       "    <tr>\n",
       "      <th>5</th>\n",
       "      <td>8.0</td>\n",
       "      <td>0.66</td>\n",
       "      <td>35.0</td>\n",
       "      <td>2.0</td>\n",
       "      <td>1.0</td>\n",
       "      <td>0.66</td>\n",
       "      <td>0.50</td>\n",
       "      <td>0.0</td>\n",
       "      <td>2.0</td>\n",
       "      <td>1.0</td>\n",
       "    </tr>\n",
       "  </tbody>\n",
       "</table>\n",
       "</div>"
      ],
      "text/plain": [
       "   GlobalRegion  CountryIncomeLevel   Age  Gender  Education  IncomeFeelings  \\\n",
       "0          11.0                0.33  58.0     2.0        2.0            0.33   \n",
       "2           7.0                0.00  36.0     1.0        3.0            0.00   \n",
       "3          13.0                1.00  45.0     2.0        3.0            1.00   \n",
       "4           8.0                1.00  29.0     2.0        3.0            0.66   \n",
       "5           8.0                0.66  35.0     2.0        1.0            0.66   \n",
       "\n",
       "   INCOME_5  Urbanicity  HouseholdSize   L2  \n",
       "0      0.75         1.0            3.0 -1.0  \n",
       "2      1.00         1.0            3.0  0.0  \n",
       "3      0.50         0.0            2.0  0.0  \n",
       "4      1.00         1.0            1.0 -1.0  \n",
       "5      0.50         0.0            2.0  1.0  "
      ]
     },
     "execution_count": 3,
     "metadata": {},
     "output_type": "execute_result"
    }
   ],
   "source": [
    "# Replace values in order to scale properly\n",
    "yes_no = ['Urbanicity']\n",
    "income_4_up = ['CountryIncomeLevel']\n",
    "income_4_down =  ['IncomeFeelings']\n",
    "income_5 = ['INCOME_5']\n",
    "\n",
    "# Impose scale of Rural = 0 and City = 1 to Urbanicity\n",
    "for col in yes_no:\n",
    "    df[col] = df[col].replace(1,0)\n",
    "    df[col] = df[col].replace(2,1)  \n",
    "    \n",
    "# Impose scale of Lowest Income = 0, Highest Income = 1, values in between\n",
    "for col in income_4_up:\n",
    "    df[col] = df[col].replace(1,0)\n",
    "    df[col] = df[col].replace(2,0.33)\n",
    "    df[col] = df[col].replace(3,0.66)\n",
    "    df[col] = df[col].replace(4,1)\n",
    "for col in income_4_down:\n",
    "    df[col] = df[col].replace(2,0.66)\n",
    "    df[col] = df[col].replace(3,0.33)\n",
    "    df[col] = df[col].replace(4,0)\n",
    "for col in income_5:\n",
    "    df[col] = df[col].replace(1,0)\n",
    "    df[col] = df[col].replace(2,0.25)\n",
    "    df[col] = df[col].replace(3,0.5)\n",
    "    df[col] = df[col].replace(4,0.75)\n",
    "    df[col] = df[col].replace(5,1)\n",
    "    \n",
    "# Impose scale of Same = 0, Less = -1, and More = 1 to Question 2 (how safe do you feel?)\n",
    "# This is the dependent variable\n",
    "df['L2'] = df['L2'].replace(2,-1)\n",
    "df['L2'] = df['L2'].replace(3,0)\n",
    "\n",
    "# Review data\n",
    "df.head()"
   ]
  },
  {
   "cell_type": "markdown",
   "metadata": {},
   "source": [
    "Let's look at the income variables separate from the other information."
   ]
  },
  {
   "cell_type": "code",
   "execution_count": 14,
   "metadata": {},
   "outputs": [
    {
     "name": "stdout",
     "output_type": "stream",
     "text": [
      "Training data size:  101466\n",
      "Testing data size:  43486\n"
     ]
    }
   ],
   "source": [
    "# Create 2 additional sets of data:\n",
    "#   1. Income only data\n",
    "#   2. Non-income data\n",
    "\n",
    "all_df = df.drop(columns=['L2'])\n",
    "all_target = df['L2']\n",
    "income_df = df[{'CountryIncomeLevel', 'IncomeFeelings', 'INCOME_5'}]\n",
    "income_target = df['L2']\n",
    "non_inc_df = df.drop(columns=['CountryIncomeLevel', 'IncomeFeelings', 'INCOME_5','L2'])\n",
    "non_inc_target = df['L2']\n",
    "\n",
    "# Separate all three sets of data into training and testing data\n",
    "all_X_train, all_X_test, all_y_train, all_y_test = train_test_split(all_df, all_target, test_size =0.3, random_state=11)\n",
    "income_X_train, income_X_test, income_y_train, income_y_test = train_test_split(income_df, income_target, \n",
    "                                                                                test_size =0.3, random_state=11)\n",
    "non_inc_X_train, non_inc_X_test, non_inc_y_train, non_inc_y_test = train_test_split(non_inc_df, non_inc_target, \n",
    "                                                                                    test_size =0.3, random_state=11)\n",
    "\n",
    "# Create function to calculate accuracy of predictions\n",
    "def accuracy(cm):\n",
    "   tp = cm.trace()\n",
    "   all = cm.sum()\n",
    "   return tp / all\n",
    "\n",
    "print('Training data size: ',len(all_X_train))\n",
    "print('Testing data size: ', len(all_X_test))"
   ]
  },
  {
   "cell_type": "markdown",
   "metadata": {},
   "source": [
    "Neural Net"
   ]
  },
  {
   "cell_type": "code",
   "execution_count": 6,
   "metadata": {},
   "outputs": [
    {
     "name": "stdout",
     "output_type": "stream",
     "text": [
      "Accuracy of MLPClassifier on Income :  {3: 0.46368946327553695}\n",
      "Accuracy of MLPClassifier on Non-Income :  {3: 0.4810743687623603}\n",
      "Accuracy of MLPClassifier overall :  {3: 0.5079335878213678}\n"
     ]
    }
   ],
   "source": [
    "# Define the classifier\n",
    "#classifier = MLPClassifier(hidden_layer_sizes=(150,100,50), max_iter=300,activation = 'relu',solver='adam',random_state=1)\n",
    "#mlp = MLPClassifier(hidden_layer_sizes=(10),solver='sgd',learning_rate_init=0.01,max_iter=500)\n",
    "\n",
    "income_results = {}\n",
    "non_inc_results = {}\n",
    "all_results = {}\n",
    "\n",
    "for b in batch:\n",
    "    classifier = MLPClassifier(hidden_layer_sizes=(150,100,50), solver='adam', max_iter=500, learning_rate_init=0.0001, \n",
    "                               learning_rate='adaptive', batch_size = 3, random_state=1)\n",
    "\n",
    "    #Fit the training data to the network, make prediction and check accuracy for income data\n",
    "    classifier.fit(income_X_train, income_y_train)\n",
    "    income_y_pred = classifier.predict(income_X_test)\n",
    "    cm = confusion_matrix(income_y_pred, income_y_test)\n",
    "    ac = accuracy(cm)\n",
    "    income_results.update({b:ac})\n",
    "    \n",
    "    #Fit the training data to the network, make prediction and check accuracy for non-income data\n",
    "    classifier.fit(non_inc_X_train, non_inc_y_train)\n",
    "    non_inc_y_pred = classifier.predict(non_inc_X_test)\n",
    "    cm = confusion_matrix(non_inc_y_pred, non_inc_y_test)\n",
    "    ac = accuracy(cm)\n",
    "    non_inc_results.update({b:ac})\n",
    "\n",
    "    #Fit the training data to the network, make prediction and check accuracy for all data\n",
    "    classifier.fit(all_X_train, all_y_train)\n",
    "    all_y_pred = classifier.predict(all_X_test)\n",
    "    cm = confusion_matrix(all_y_pred, all_y_test)\n",
    "    ac = accuracy(cm)\n",
    "    all_results.update({b:ac})\n",
    "    \n",
    "print('Accuracy of MLPClassifier on Income : ', income_results)\n",
    "print('Accuracy of MLPClassifier on Non-Income : ', non_inc_results)\n",
    "print('Accuracy of MLPClassifier overall : ', all_results)"
   ]
  },
  {
   "cell_type": "markdown",
   "metadata": {},
   "source": [
    "Logistic Regression (showing best results after optimizing for # iterations)."
   ]
  },
  {
   "cell_type": "code",
   "execution_count": 18,
   "metadata": {},
   "outputs": [
    {
     "name": "stdout",
     "output_type": "stream",
     "text": [
      "Accuracy of logistic regression on Income :  0.4624246884054638\n",
      "Accuracy of logistic regression on Non-Income :  0.46955341949133056\n",
      "Accuracy of logistic regression overall :  0.4767281423906545\n"
     ]
    }
   ],
   "source": [
    "# Set up Logistic Regression model\n",
    "classifier = linear_model.LogisticRegression(multi_class='multinomial', solver='lbfgs', max_iter = 500)\n",
    "    \n",
    "#Fit the training data to the regression, make prediction and check accuracy for income data\n",
    "classifier.fit(income_X_train, income_y_train)\n",
    "income_y_pred = classifier.predict(income_X_test)\n",
    "income_cm = confusion_matrix(income_y_pred, income_y_test)\n",
    "    \n",
    "#Fit the training data to the regression, make prediction and check accuracy for non-income data\n",
    "classifier.fit(non_inc_X_train, non_inc_y_train)\n",
    "non_inc_y_pred = classifier.predict(non_inc_X_test)\n",
    "non_inc_cm = confusion_matrix(non_inc_y_pred, non_inc_y_test)\n",
    "    \n",
    "#Fit the training data to the regression, make prediction and check accuracy for all data\n",
    "classifier.fit(all_X_train, all_y_train)\n",
    "all_y_pred = classifier.predict(all_X_test)\n",
    "all_cm = confusion_matrix(all_y_pred, all_y_test)\n",
    "    \n",
    "print('Accuracy of logistic regression on Income : ', accuracy(income_cm))\n",
    "print('Accuracy of logistic regression on Non-Income : ', accuracy(non_inc_cm))\n",
    "print('Accuracy of logistic regression overall : ', accuracy(all_cm))"
   ]
  },
  {
   "cell_type": "markdown",
   "metadata": {},
   "source": [
    "K-Nearest Neighbors (showing best results after optimizing for value of k)."
   ]
  },
  {
   "cell_type": "code",
   "execution_count": 20,
   "metadata": {},
   "outputs": [
    {
     "name": "stdout",
     "output_type": "stream",
     "text": [
      "Accuracy of knn on Income :  0.4164328749482592\n",
      "Accuracy of knn on Non-Income :  0.44398197120912475\n",
      "Accuracy of knn overall :  0.45161661224302074\n"
     ]
    }
   ],
   "source": [
    "# Set up model\n",
    "classifier = KNeighborsClassifier(n_neighbors=9)\n",
    "    \n",
    "#Fit the training data to the knn classifier, make prediction and check accuracy for income data\n",
    "classifier.fit(income_X_train, income_y_train)\n",
    "income_y_pred = classifier.predict(income_X_test)\n",
    "cm = confusion_matrix(income_y_pred, income_y_test)\n",
    "income_results = accuracy(cm)\n",
    "    \n",
    "#Fit the training data to the knn classifier, make prediction and check accuracy for non-income data\n",
    "classifier.fit(non_inc_X_train, non_inc_y_train)\n",
    "non_inc_y_pred = classifier.predict(non_inc_X_test)\n",
    "cm = confusion_matrix(non_inc_y_pred, non_inc_y_test)\n",
    "non_inc_results = accuracy(cm)\n",
    "    \n",
    "#Fit the training data to the knn classifier, make prediction and check accuracy for all data\n",
    "classifier.fit(all_X_train, all_y_train)\n",
    "all_y_pred = classifier.predict(all_X_test)\n",
    "cm = confusion_matrix(all_y_pred, all_y_test)\n",
    "all_results = accuracy(cm)\n",
    "    \n",
    "print('Accuracy of knn on Income : ', income_results)\n",
    "print('Accuracy of knn on Non-Income : ', non_inc_results)\n",
    "print('Accuracy of knn overall : ', all_results)"
   ]
  },
  {
   "cell_type": "markdown",
   "metadata": {},
   "source": [
    "Random Forest"
   ]
  },
  {
   "cell_type": "code",
   "execution_count": 21,
   "metadata": {},
   "outputs": [
    {
     "name": "stdout",
     "output_type": "stream",
     "text": [
      "Accuracy of random forest on Income :  0.46368946327553695\n",
      "Accuracy of random forest on Non-Income :  0.4345306535436692\n",
      "Accuracy of random forest overall :  0.44002667525180517\n"
     ]
    }
   ],
   "source": [
    "# Set up Random Forest\n",
    "classifier = RandomForestClassifier(n_estimators=100)\n",
    "    \n",
    "#Fit the training data to the knn classifier, make prediction and check accuracy for income data\n",
    "classifier.fit(income_X_train, income_y_train)\n",
    "income_y_pred = classifier.predict(income_X_test)\n",
    "cm = confusion_matrix(income_y_pred, income_y_test)\n",
    "income_results = accuracy(cm)\n",
    "    \n",
    "#Fit the training data to the knn classifier, make prediction and check accuracy for non-income data\n",
    "classifier.fit(non_inc_X_train, non_inc_y_train)\n",
    "non_inc_y_pred = classifier.predict(non_inc_X_test)\n",
    "cm = confusion_matrix(non_inc_y_pred, non_inc_y_test)\n",
    "non_inc_results = accuracy(cm)\n",
    "    \n",
    "#Fit the training data to the knn classifier, make prediction and check accuracy for all data\n",
    "classifier.fit(all_X_train, all_y_train)\n",
    "all_y_pred = classifier.predict(all_X_test)\n",
    "cm = confusion_matrix(all_y_pred, all_y_test)\n",
    "all_results = accuracy(cm)\n",
    "    \n",
    "print('Accuracy of random forest on Income : ', income_results)\n",
    "print('Accuracy of random forest on Non-Income : ', non_inc_results)\n",
    "print('Accuracy of random forest overall : ', all_results)"
   ]
  }
 ],
 "metadata": {
  "kernelspec": {
   "display_name": "Python 3",
   "language": "python",
   "name": "python3"
  },
  "language_info": {
   "codemirror_mode": {
    "name": "ipython",
    "version": 3
   },
   "file_extension": ".py",
   "mimetype": "text/x-python",
   "name": "python",
   "nbconvert_exporter": "python",
   "pygments_lexer": "ipython3",
   "version": "3.8.3"
  }
 },
 "nbformat": 4,
 "nbformat_minor": 4
}
